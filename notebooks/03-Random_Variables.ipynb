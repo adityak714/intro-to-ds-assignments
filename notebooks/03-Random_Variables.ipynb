{
 "cells": [
  {
   "cell_type": "markdown",
   "id": "b8764431",
   "metadata": {
    "deletable": false
   },
   "source": [
    "# [Introduction to Data Science](http://datascience-intro.github.io/1MS041-2024/)    \n",
    "## 1MS041, 2024 \n",
    "&copy;2024 Raazesh Sainudiin, Benny Avelin. [Attribution 4.0 International     (CC BY 4.0)](https://creativecommons.org/licenses/by/4.0/)"
   ]
  },
  {
   "cell_type": "markdown",
   "id": "4dbf5848",
   "metadata": {},
   "source": [
    "# Joint and Marginal Distribution\n",
    "\n",
    "f(X,Y) = Joint Density Function\n",
    "F(X,Y) = $\\int\\int f(X,Y) dy dx$\n",
    "\n",
    "Marginal Probability Distribution\n",
    "\n",
    "> Integrate/Sum only on one axis (dx OR dy), depending on which variable you wish to calculate the marginal probability for."
   ]
  },
  {
   "cell_type": "markdown",
   "id": "c48d3269",
   "metadata": {},
   "source": [
    "## Expected Value, Variance\n",
    "\n",
    "$$\n",
    "E[X] = \\Sigma xp(x) \\\\\n",
    "Var[X] = E[(X-\\mu)^2] = E[X^2] - \\mu^2 \\\\\n",
    "E[X^2] = \\Sigma x^2p(x) \\\\ \\\\\n",
    "$$\n",
    "\n",
    "$$\n",
    "P(X=x) = f(x) (PDF) \\\\\n",
    "P(X<x) = \\Sigma f(x) or \\int f(x)dx (CDF)\n",
    "$$"
   ]
  },
  {
   "cell_type": "markdown",
   "id": "f640a563",
   "metadata": {},
   "source": [
    "## Second notebook on Random variables\n",
    "\n",
    "Lets take a look again at the spam dataset and look at our concepts there"
   ]
  },
  {
   "cell_type": "code",
   "execution_count": 7,
   "id": "46083ad3",
   "metadata": {},
   "outputs": [
    {
     "data": {
      "text/plain": [
       "[('Go until jurong point, crazy.. Available only in bugis n great world la e buffet... Cine there got amore wat...',\n",
       "  0),\n",
       " ('Ok lar... Joking wif u oni...', 0)]"
      ]
     },
     "execution_count": 7,
     "metadata": {},
     "output_type": "execute_result"
    }
   ],
   "source": [
    "from Utils import load_sms\n",
    "sms_data = load_sms()\n",
    "sms_data[:2]"
   ]
  },
  {
   "cell_type": "markdown",
   "id": "bb119585",
   "metadata": {},
   "source": [
    "Let X represents each SMS text (an entry in the list), and let $Y$ represent whether text is spam or not i.e. $Y \\in \\{0,1\\}$. Thus $\\mathbb{P}(Y = 1)$ is the probability that we get a spam. The goal is to estimate:\n",
    "$$\n",
    "    \\mathbb{P}(Y = 1 | \\text{\"free\" or \"prize\" is in } X) \\enspace .\n",
    "$$\n",
    "That is, the probability that the SMS is spam given that \"free\" or \"prize\" occurs in the SMS. \n",
    "Hint: it is good to remove the upper/lower case of words so that we can also find \"Free\" and \"Prize\"; this can be done with `text.lower()` if `text` a string.\n",
    "\n",
    "To do this we can create a new random variable $Z$ which is $1$ if \"free\" or \"prize\" appears in $X$."
   ]
  },
  {
   "cell_type": "code",
   "execution_count": 8,
   "id": "074bd546",
   "metadata": {},
   "outputs": [],
   "source": [
    "interesting_words=set(['free','prize'])\n",
    "TF10 = {True: 1, False: 0}\n",
    "Z_obs = [TF10[not interesting_words.isdisjoint([word.lower() for word in line[0].split(' ')])] for line in sms_data]"
   ]
  },
  {
   "cell_type": "code",
   "execution_count": 10,
   "id": "2d83f9a2",
   "metadata": {},
   "outputs": [
    {
     "data": {
      "text/plain": [
       "[0, 0, 1, 0, 0, 0, 0, 0, 1, 1]"
      ]
     },
     "execution_count": 10,
     "metadata": {},
     "output_type": "execute_result"
    }
   ],
   "source": [
    "Z_obs[:10] # of the first 10 messages, how many contain the word 'free' or 'prize'?"
   ]
  },
  {
   "cell_type": "code",
   "execution_count": 11,
   "id": "3bb642e5",
   "metadata": {},
   "outputs": [
    {
     "data": {
      "text/plain": [
       "[0, 0, 1, 0, 0, 1, 0, 0, 1, 1]"
      ]
     },
     "execution_count": 11,
     "metadata": {},
     "output_type": "execute_result"
    }
   ],
   "source": [
    "Y_obs = [y for x,y in sms_data] # extract the labels\n",
    "Y_obs[:10] # of the first 10 messages, how many are spam?"
   ]
  },
  {
   "cell_type": "code",
   "execution_count": 13,
   "id": "40e64960",
   "metadata": {},
   "outputs": [],
   "source": [
    "import numpy as np \n",
    "def F_X_12(x):\n",
    "    TF10 = {True: 1, False: 0}\n",
    "    # adds up the number of times the word 'free' or 'prize' appears in the message\n",
    "    return np.mean([TF10[(y <= x[0]) and (z <= x[1])] for y,z in zip (Y_obs,Z_obs)]) "
   ]
  },
  {
   "cell_type": "code",
   "execution_count": 14,
   "id": "e6f92c71",
   "metadata": {},
   "outputs": [
    {
     "data": {
      "text/plain": [
       "np.float64(0.9551328068916008)"
      ]
     },
     "execution_count": 14,
     "metadata": {},
     "output_type": "execute_result"
    }
   ],
   "source": [
    "F_X_12([1,0])"
   ]
  },
  {
   "cell_type": "markdown",
   "id": "408ae961",
   "metadata": {},
   "source": [
    "This is the JDF for this problem"
   ]
  },
  {
   "cell_type": "code",
   "execution_count": 15,
   "id": "b856ee1e",
   "metadata": {},
   "outputs": [
    {
     "name": "stdout",
     "output_type": "stream",
     "text": [
      "\tz <= 0 \t\tz <= 1\n",
      "y <= 0 \t0.86\t\t0.87\t\t\n",
      "\n",
      "y <= 1 \t0.96\t\t1.00\t\t\n",
      "\n"
     ]
    }
   ],
   "source": [
    "print(\"\\tz <= 0 \\t\\tz <= 1\")\n",
    "for x1 in range(0,2):\n",
    "    print(\"y <= %d \\t\" % x1,end='')\n",
    "    for x2 in range(0,2):\n",
    "        print(\"%.2f\" % (F_X_12((x1,x2))),end='\\t\\t')\n",
    "    print('\\n')"
   ]
  },
  {
   "cell_type": "code",
   "execution_count": 16,
   "id": "2f9f28e4",
   "metadata": {},
   "outputs": [
    {
     "data": {
      "text/plain": [
       "np.float64(0.9551328068916008)"
      ]
     },
     "execution_count": 16,
     "metadata": {},
     "output_type": "execute_result"
    }
   ],
   "source": [
    "F_X_12((1,0))"
   ]
  },
  {
   "cell_type": "code",
   "execution_count": 17,
   "id": "0992b566",
   "metadata": {},
   "outputs": [
    {
     "data": {
      "text/plain": [
       "np.False_"
      ]
     },
     "execution_count": 17,
     "metadata": {},
     "output_type": "execute_result"
    }
   ],
   "source": [
    "F_X_12((0,0)) == F_X_12((0,1))*F_X_12((1,0))"
   ]
  },
  {
   "cell_type": "code",
   "execution_count": 18,
   "id": "236c531b",
   "metadata": {},
   "outputs": [
    {
     "data": {
      "text/plain": [
       "np.float64(0.8270846721557743)"
      ]
     },
     "execution_count": 18,
     "metadata": {},
     "output_type": "execute_result"
    }
   ],
   "source": [
    "F_X_12((0,1))*F_X_12((1,0))"
   ]
  },
  {
   "cell_type": "code",
   "execution_count": 19,
   "id": "d6246c1e",
   "metadata": {},
   "outputs": [
    {
     "data": {
      "text/plain": [
       "0.827084672155774"
      ]
     },
     "execution_count": 19,
     "metadata": {},
     "output_type": "execute_result"
    }
   ],
   "source": [
    "# Are they independent? If so, then the JDF is just the product of the \n",
    "# DFs for Y and Z, but\n",
    "0.865936826992103*0.955132806891601"
   ]
  },
  {
   "cell_type": "markdown",
   "id": "d942a608",
   "metadata": {},
   "source": [
    "Which is not 0.858, so they are not independent. So lets try to estimate the probability that $Y=1$ given that $Z = 1$. Lets again do that by filtering"
   ]
  },
  {
   "cell_type": "code",
   "execution_count": null,
   "id": "98afc79d",
   "metadata": {},
   "outputs": [],
   "source": [
    "np.mean([y for z,y in zip(Z_obs,Y_obs) if z == 1])"
   ]
  },
  {
   "cell_type": "markdown",
   "id": "79731699",
   "metadata": {},
   "source": [
    "Compare that with the marginal probability of $Y = 1$, which is according to our JDF 1-0.866 = 0.134"
   ]
  },
  {
   "cell_type": "code",
   "execution_count": null,
   "id": "7fb6c482",
   "metadata": {},
   "outputs": [],
   "source": [
    "# Or we can just compute it directly\n",
    "np.mean(Y_obs)"
   ]
  },
  {
   "cell_type": "markdown",
   "id": "1b5364a7",
   "metadata": {},
   "source": [
    "What we see from this is that knowing that the words \"free\" or \"prize\" appeared in the sms text, we are much more certain that it is a spam. We also see that looking directly at the JDF this can be hard to see, although it is equivalent."
   ]
  },
  {
   "cell_type": "code",
   "execution_count": 17,
   "id": "db2e426e",
   "metadata": {},
   "outputs": [],
   "source": [
    "x = np.random.normal(size=100)"
   ]
  },
  {
   "cell_type": "code",
   "execution_count": 18,
   "id": "fd306dd2",
   "metadata": {},
   "outputs": [
    {
     "data": {
      "text/plain": [
       "-0.08265975892373005"
      ]
     },
     "execution_count": 18,
     "metadata": {},
     "output_type": "execute_result"
    }
   ],
   "source": [
    "np.mean(x)"
   ]
  },
  {
   "cell_type": "code",
   "execution_count": 19,
   "id": "72f9425b",
   "metadata": {},
   "outputs": [],
   "source": [
    "g = lambda x: x**2"
   ]
  },
  {
   "cell_type": "code",
   "execution_count": 23,
   "id": "7433a956",
   "metadata": {},
   "outputs": [
    {
     "data": {
      "text/plain": [
       "3.588674726116084"
      ]
     },
     "execution_count": 23,
     "metadata": {},
     "output_type": "execute_result"
    }
   ],
   "source": [
    "mean = np.mean(x)\n",
    "y = x-mean\n",
    "np.mean(y**4)"
   ]
  },
  {
   "cell_type": "markdown",
   "id": "c2ca6946",
   "metadata": {},
   "source": [
    "## Moments etc"
   ]
  },
  {
   "cell_type": "code",
   "execution_count": 20,
   "id": "9cd452b7",
   "metadata": {},
   "outputs": [],
   "source": [
    "import numpy as np\n",
    "x = np.random.normal(size=100)"
   ]
  },
  {
   "cell_type": "code",
   "execution_count": 21,
   "id": "58e096b6",
   "metadata": {
    "scrolled": true
   },
   "outputs": [
    {
     "data": {
      "text/plain": [
       "array([-1.75352237, -0.29444232,  0.10930177, -0.48267021,  1.33082724,\n",
       "        1.72638852,  0.24654428, -0.42388161, -0.36556683, -0.2701849 ,\n",
       "        1.42850159,  0.81289119, -0.15243188,  2.05141212, -0.12351252,\n",
       "        0.16228026,  0.29029926, -0.51162249,  0.1769495 , -0.50505062,\n",
       "       -0.79625339,  0.03451092, -0.61272092,  1.50553008, -0.45411172,\n",
       "        0.16318282, -0.36197575, -0.55172022,  1.79390766,  0.17341116,\n",
       "        0.07637391,  0.04115703,  0.13163649, -0.07999922,  0.04170978,\n",
       "       -1.43113973, -0.55561929, -0.77561795, -0.06638311, -0.57517488,\n",
       "        0.2474049 , -0.53607634,  0.59237962, -2.1593221 , -0.10478908,\n",
       "       -0.07864668,  0.35583987, -0.5926692 ,  1.31281786, -0.17612447,\n",
       "       -0.46189814, -1.17689077, -0.6415513 ,  0.69382058, -2.14142411,\n",
       "       -0.38168897, -0.03621312, -0.91810272,  2.29760411, -1.78477258,\n",
       "       -0.5202711 , -1.09839334,  0.30016258, -0.76496769,  0.96514613,\n",
       "       -1.03714844,  1.77827762,  0.54013312,  0.64401098, -0.58804046,\n",
       "       -0.03601818,  1.54326493, -0.09100544,  0.15807446, -1.67016692,\n",
       "        0.38167994,  0.29071958, -1.65112375, -0.3709407 , -1.5255993 ,\n",
       "        0.75852956,  0.11077843, -0.78166865,  0.8723938 , -1.38979087,\n",
       "        1.37337965, -1.02592325,  1.57970507, -1.21519881, -0.18594425,\n",
       "        0.93319676, -0.09385195, -1.19109192, -1.29149174, -0.45665247,\n",
       "       -0.85499863,  2.42654003, -1.84940303,  1.63572876, -0.12011208])"
      ]
     },
     "execution_count": 21,
     "metadata": {},
     "output_type": "execute_result"
    }
   ],
   "source": [
    "x"
   ]
  },
  {
   "cell_type": "markdown",
   "id": "e49b695b",
   "metadata": {},
   "source": [
    "## Sample mean"
   ]
  },
  {
   "cell_type": "code",
   "execution_count": 22,
   "id": "efaff7e7",
   "metadata": {},
   "outputs": [
    {
     "data": {
      "text/plain": [
       "np.float64(-0.08055170545962964)"
      ]
     },
     "execution_count": 22,
     "metadata": {},
     "output_type": "execute_result"
    }
   ],
   "source": [
    "np.mean(x)"
   ]
  },
  {
   "cell_type": "markdown",
   "id": "275037fd",
   "metadata": {},
   "source": [
    "## Sample variance"
   ]
  },
  {
   "cell_type": "code",
   "execution_count": 23,
   "id": "d24101b3",
   "metadata": {},
   "outputs": [
    {
     "data": {
      "text/plain": [
       "np.float64(0.9696895674247559)"
      ]
     },
     "execution_count": 23,
     "metadata": {},
     "output_type": "execute_result"
    }
   ],
   "source": [
    "np.var(x)"
   ]
  },
  {
   "cell_type": "markdown",
   "id": "424d638f",
   "metadata": {},
   "source": [
    "Or by doing it yourself"
   ]
  },
  {
   "cell_type": "code",
   "execution_count": 25,
   "id": "f20cee48",
   "metadata": {},
   "outputs": [
    {
     "data": {
      "text/plain": [
       "np.float64(0.9696895674247559)"
      ]
     },
     "execution_count": 25,
     "metadata": {},
     "output_type": "execute_result"
    }
   ],
   "source": [
    "mu = np.mean(x)\n",
    "np.mean(np.power(x-mu,2)) # square of the difference from the mean"
   ]
  },
  {
   "cell_type": "markdown",
   "id": "1bf37cf3",
   "metadata": {},
   "source": [
    "Higher moments, we can use `scipy`"
   ]
  },
  {
   "cell_type": "code",
   "execution_count": 26,
   "id": "6913e441",
   "metadata": {},
   "outputs": [],
   "source": [
    "from scipy.stats import skew, kurtosis"
   ]
  },
  {
   "cell_type": "code",
   "execution_count": 27,
   "id": "42e817e1",
   "metadata": {},
   "outputs": [
    {
     "data": {
      "text/plain": [
       "np.float64(0.3426374542174529)"
      ]
     },
     "execution_count": 27,
     "metadata": {},
     "output_type": "execute_result"
    }
   ],
   "source": [
    "skew(x)"
   ]
  },
  {
   "cell_type": "code",
   "execution_count": 28,
   "id": "d019a424",
   "metadata": {},
   "outputs": [
    {
     "data": {
      "text/plain": [
       "np.float64(2.949534703861673)"
      ]
     },
     "execution_count": 28,
     "metadata": {},
     "output_type": "execute_result"
    }
   ],
   "source": [
    "kurtosis(x,fisher=False)"
   ]
  },
  {
   "cell_type": "markdown",
   "id": "ed49b580",
   "metadata": {},
   "source": [
    "## Moments and tail behavior"
   ]
  },
  {
   "cell_type": "code",
   "execution_count": 29,
   "id": "1f1515c8",
   "metadata": {},
   "outputs": [],
   "source": [
    "def standardize(data):\n",
    "    mean = np.mean(data)\n",
    "    std = np.sqrt(np.var(data))\n",
    "    return (data-mean)/std"
   ]
  },
  {
   "cell_type": "code",
   "execution_count": 30,
   "id": "792c4384",
   "metadata": {},
   "outputs": [
    {
     "data": {
      "text/plain": [
       "(-3.0, 5.0)"
      ]
     },
     "execution_count": 30,
     "metadata": {},
     "output_type": "execute_result"
    },
    {
     "data": {
      "image/png": "[encoded data removed]",
      "text/plain": [
       "<Figure size 640x480 with 1 Axes>"
      ]
     },
     "metadata": {},
     "output_type": "display_data"
    }
   ],
   "source": [
    "import numpy as np\n",
    "chi2 = np.random.chisquare(4,size=10000)\n",
    "normal = np.random.normal(size=10000)\n",
    "import matplotlib.pyplot as plt\n",
    "_=plt.hist(standardize(chi2),bins=50,alpha=0.5)\n",
    "_=plt.hist(standardize(normal),bins=50,alpha=0.5)\n",
    "plt.xlim(-3,5)"
   ]
  },
  {
   "cell_type": "code",
   "execution_count": 31,
   "id": "3897c76d",
   "metadata": {},
   "outputs": [],
   "source": [
    "from scipy.stats import skew, kurtosis\n",
    "def print_basic_stats(data):\n",
    "    print(\"mean: %.2f\\tstd: %.2f\\tskew: %.2f\\tkurtosis: %.2f\" % (np.mean(data),np.std(data),skew(data),kurtosis(data,fisher=False)))"
   ]
  },
  {
   "cell_type": "code",
   "execution_count": 32,
   "id": "bab37398",
   "metadata": {},
   "outputs": [
    {
     "name": "stdout",
     "output_type": "stream",
     "text": [
      "mean: 0.00\tstd: 1.00\tskew: -0.01\tkurtosis: 3.04\n"
     ]
    }
   ],
   "source": [
    "print_basic_stats(standardize(normal))"
   ]
  },
  {
   "cell_type": "code",
   "execution_count": 30,
   "id": "774c2d5f",
   "metadata": {},
   "outputs": [
    {
     "name": "stdout",
     "output_type": "stream",
     "text": [
      "mean: 0.00\tstd: 1.00\tskew: 1.40\tkurtosis: 5.86\n"
     ]
    }
   ],
   "source": [
    "print_basic_stats(standardize(chi2))"
   ]
  },
  {
   "cell_type": "code",
   "execution_count": null,
   "id": "3769ed2a",
   "metadata": {},
   "outputs": [],
   "source": [
    "print_basic_stats(standardize(np.sqrt(chi2)))"
   ]
  },
  {
   "cell_type": "code",
   "execution_count": null,
   "id": "0af5719c",
   "metadata": {},
   "outputs": [],
   "source": [
    "np.mean(np.power(standardize(chi2),3)) # Skewness"
   ]
  },
  {
   "cell_type": "code",
   "execution_count": null,
   "id": "20dada6f",
   "metadata": {},
   "outputs": [],
   "source": [
    "np.mean(np.power(standardize(chi2),4)) # kurtosis"
   ]
  },
  {
   "cell_type": "markdown",
   "id": "1dd18e1b",
   "metadata": {},
   "source": [
    "## Transformations of random variables"
   ]
  },
  {
   "cell_type": "markdown",
   "id": "a315070b",
   "metadata": {},
   "source": [
    "Consider a Binomial random variable"
   ]
  },
  {
   "cell_type": "code",
   "execution_count": 35,
   "id": "294c145e",
   "metadata": {},
   "outputs": [
    {
     "data": {
      "text/plain": [
       "array([ 4,  3,  5,  7,  5,  5,  4,  5,  4,  7,  3,  7,  5,  8,  6,  4,  3,\n",
       "        5,  1,  4,  4,  5,  6,  4,  4,  6,  2,  5,  6,  3,  6,  4,  3,  6,\n",
       "        4,  5,  6,  6,  7,  4,  5,  4,  5,  5,  6,  5,  3,  7,  5,  4,  5,\n",
       "        2,  6,  6,  4,  4,  2,  6,  4,  3,  4,  5,  2,  3,  4,  6,  5,  7,\n",
       "        5,  5,  3,  4,  3,  6,  3,  5,  6,  9,  4,  8,  5,  6,  3,  3,  6,\n",
       "        7,  3,  6,  5,  3,  3,  3,  7,  6,  8,  3,  5,  6,  6,  4,  4,  5,\n",
       "        4,  5,  7,  9,  6,  6,  4,  6,  4, 10,  6,  5,  4,  3,  6,  5,  5,\n",
       "        5,  5,  6,  9,  4,  4,  5,  6,  6,  6,  4,  6,  4,  6,  4,  7,  4,\n",
       "        5,  6,  5,  6,  4,  3,  4,  3,  1,  5,  8,  4,  6,  5,  3,  7,  5,\n",
       "        5,  2,  3,  7,  6,  6,  6,  4,  4,  5,  8,  5,  7,  9,  4,  5,  4,\n",
       "        5,  7,  3,  4,  3,  2,  5,  6,  1,  6,  5,  6,  4,  2,  7,  4,  6,\n",
       "        5,  6,  5,  4,  7,  5,  6,  3,  6,  5,  5,  4,  4,  6,  3,  7,  5,\n",
       "        5,  7,  6,  4,  2,  4,  5,  2,  4,  8,  4,  3,  5,  5,  5,  1,  3,\n",
       "        5,  6,  5,  4,  8,  7,  6,  5,  7,  4,  7,  7,  7,  5,  5,  1,  2,\n",
       "        3,  6,  3,  3,  6,  4,  6,  6,  5,  1,  5,  4,  6,  6,  6,  5,  4,\n",
       "        5,  2,  3,  8,  5,  4,  6,  4,  3,  5,  1,  4,  3,  5,  7,  3,  4,\n",
       "        7,  8,  7,  8,  3,  5,  5,  8,  2,  4,  6,  3,  2,  4,  5,  6,  3,\n",
       "        4,  7,  4,  8,  2,  5,  5,  5,  5,  5,  5,  2,  6,  6,  6,  5,  5,\n",
       "        6,  5,  7,  4,  0,  6,  5,  6,  5,  4,  5,  3,  4,  5,  3,  3,  5,\n",
       "        3,  8,  5,  6,  3,  4,  7,  5,  5,  1,  6,  4,  7,  4,  6,  0,  6,\n",
       "        5,  6,  4,  4,  6,  5,  8,  2,  8,  6,  4,  5,  5,  3,  8,  6,  6,\n",
       "        3,  3,  9,  5,  6,  3,  4,  3,  5,  4,  4,  4,  6,  3,  5,  9,  5,\n",
       "        8,  6,  3,  5,  8,  5,  3,  7,  5,  4,  7,  6,  3,  4,  5,  6,  6,\n",
       "        4,  0,  7,  7,  6,  6,  6,  6,  6,  4,  6,  4,  5,  3,  5,  6,  2,\n",
       "        1,  8,  5,  8,  2,  3,  5,  2,  5,  6,  4,  6,  1,  6,  7,  6,  6,\n",
       "        3,  6,  3,  8,  4,  8,  6,  8,  7,  5,  8,  1,  6,  7,  5,  6,  6,\n",
       "        7,  4,  5,  1,  6,  7,  3,  5,  5,  5,  4,  4,  7,  4,  5,  4,  5,\n",
       "        5,  6,  5,  7,  5,  4,  7,  7,  4,  6,  7,  6,  5,  6,  5,  5,  6,\n",
       "        6,  7,  3,  5,  6,  5,  6,  7,  4,  4,  4,  4,  6,  4,  7,  4,  6,\n",
       "        4,  5,  4,  6,  5,  6,  6,  7,  4,  3,  4,  2,  5,  3,  5,  5,  6,\n",
       "        5,  5,  4,  6,  4,  4,  4,  3,  5,  7,  3,  4,  7,  8,  2,  6,  5,\n",
       "        5,  3,  4,  5,  4,  2,  5,  4,  4,  4,  5,  7,  4,  4,  6,  3,  5,\n",
       "        7,  5,  5,  5,  6,  7,  6,  4,  6,  5,  5,  6,  4,  7,  6,  2,  7,\n",
       "        5,  7,  6,  4,  5,  5,  4,  7,  5,  1,  7,  8,  7,  6,  5,  5,  4,\n",
       "        4,  3,  4,  4,  2,  6,  6,  7,  9,  7,  4,  4,  3,  6,  6,  6,  5,\n",
       "        7,  6,  4,  3,  5,  4,  2,  4,  7,  5,  3,  5,  4,  5,  3,  7,  5,\n",
       "        5,  5,  7,  5,  4,  5,  7,  3,  4,  3,  5,  7,  7,  4,  4,  7,  4,\n",
       "        6,  4,  4,  4,  8,  4,  4,  3,  7,  3,  5,  4,  3,  6,  8,  7,  3,\n",
       "        4,  7,  6,  2,  6,  5,  5,  3,  5,  4,  6,  3,  5,  4,  6,  2,  2,\n",
       "        5,  2,  3,  6,  5,  6,  6,  6,  3,  6,  5,  4,  5,  6,  3,  5,  7,\n",
       "        7,  4,  4,  3,  6,  8,  7,  5,  6,  5,  6,  9,  4,  5,  4,  5,  4,\n",
       "        5,  2,  8,  2,  9,  4,  3,  6,  6,  7,  6,  8,  4,  6,  6,  3,  4,\n",
       "        6,  4,  5,  2,  4,  3,  6,  8,  7,  4,  8,  8,  6,  7,  5,  5,  7,\n",
       "        3,  5,  4,  7,  5,  3,  3,  7,  3,  6,  4,  4,  3,  6,  4,  5,  5,\n",
       "        5,  5,  5,  6,  1,  2,  5,  3,  4,  6,  5,  5,  5,  6,  7,  6,  4,\n",
       "        5,  5,  1,  4,  4,  4,  5,  6,  6,  8,  8,  4,  5,  3,  8,  8,  2,\n",
       "        4,  5,  2,  7,  9,  5,  8,  6,  4,  3,  5,  2,  4,  4,  2,  4,  6,\n",
       "        5,  4,  5,  4,  4,  5,  5,  6,  6,  7,  4,  8,  6,  3,  5,  2,  4,\n",
       "        6,  5,  6,  5,  5,  1,  4,  4,  4,  6,  8,  7,  4,  5,  8,  6,  5,\n",
       "        4,  7,  5,  6, 10,  3,  7,  5,  4,  5,  3,  7,  9,  0,  5,  7,  4,\n",
       "        5,  5,  5,  4,  4,  5,  6,  4,  5,  6,  7,  8,  7,  5,  4,  4,  2,\n",
       "        6,  8,  4,  4,  3,  4,  6,  4,  3,  5,  7,  2,  4,  5,  6,  5,  6,\n",
       "        3,  8,  3,  3,  5,  3,  6,  4,  7,  6,  7,  4,  5,  4,  2,  7,  3,\n",
       "        4,  2,  6,  6,  4,  3,  2,  5,  7,  6,  5,  3,  6,  6,  5,  7,  5,\n",
       "        5,  5,  4,  6,  2,  5,  5,  5,  6,  3,  3,  7,  3,  6,  7,  3,  6,\n",
       "        1,  4,  8,  6,  8,  7,  5,  4,  3,  4,  4,  6,  7,  6,  4,  7,  6,\n",
       "        6,  7,  5,  5,  6,  3,  3,  3,  4,  6,  6,  7,  6,  8,  7,  7,  9,\n",
       "        4,  7,  7,  5,  5,  4,  5,  2,  6,  4,  4,  5,  5,  6,  4,  5,  3,\n",
       "        5,  4,  4,  5,  4,  3,  4,  5,  5,  4,  4,  4,  7,  4])"
      ]
     },
     "execution_count": 35,
     "metadata": {},
     "output_type": "execute_result"
    }
   ],
   "source": [
    "n = 10\n",
    "p = 0.5\n",
    "x = np.random.binomial(n,p,size=1000)\n",
    "x"
   ]
  },
  {
   "cell_type": "markdown",
   "id": "83ba1a31",
   "metadata": {},
   "source": [
    "Lets plot the empirical density"
   ]
  },
  {
   "cell_type": "code",
   "execution_count": 43,
   "id": "cdc0d7a4",
   "metadata": {},
   "outputs": [
    {
     "data": {
      "image/png": "[encoded data removed]",
      "text/plain": [
       "<Figure size 640x480 with 1 Axes>"
      ]
     },
     "metadata": {},
     "output_type": "display_data"
    }
   ],
   "source": [
    "from Utils import makeEMF,makeEDF,plotEDF,plotEMF,emfToEdf\n",
    "plotEMF(makeEMF(x))"
   ]
  },
  {
   "cell_type": "markdown",
   "id": "8a28162a",
   "metadata": {},
   "source": [
    "If we had the function $g(x) = \\sin(x/3)$"
   ]
  },
  {
   "cell_type": "code",
   "execution_count": 38,
   "id": "dfcc9af5",
   "metadata": {},
   "outputs": [
    {
     "data": {
      "image/png": "[encoded data removed]",
      "text/plain": [
       "<Figure size 640x480 with 1 Axes>"
      ]
     },
     "metadata": {},
     "output_type": "display_data"
    }
   ],
   "source": [
    "plotEMF(makeEMF(np.sin(x/3)))"
   ]
  },
  {
   "cell_type": "code",
   "execution_count": 39,
   "id": "4167118f",
   "metadata": {},
   "outputs": [
    {
     "data": {
      "image/png": "[encoded data removed]",
      "text/plain": [
       "<Figure size 640x480 with 1 Axes>"
      ]
     },
     "metadata": {},
     "output_type": "display_data"
    }
   ],
   "source": [
    "plotEDF(makeEDF(np.sin(x/3)))"
   ]
  },
  {
   "cell_type": "markdown",
   "id": "6b0c8b89",
   "metadata": {},
   "source": [
    "Can we compute this thing?\n",
    "What is $\\sin^{[-1]}$?\n",
    "\n",
    "Since $X$ is discrete, we can check what $\\mathbb{Y}$ is, since $\\mathbb{X}=\\{0,1,\\ldots,10\\}$."
   ]
  },
  {
   "cell_type": "code",
   "execution_count": 40,
   "id": "829f7a59",
   "metadata": {},
   "outputs": [],
   "source": [
    "Y_space = np.sort(np.sin(np.arange(0,11)))\n",
    "sin_inv = dict(zip(np.sin(np.arange(0,11)),np.arange(0,11)))"
   ]
  },
  {
   "cell_type": "code",
   "execution_count": 41,
   "id": "e4b83adf",
   "metadata": {},
   "outputs": [
    {
     "data": {
      "image/png": "[encoded data removed]",
      "text/plain": [
       "<Figure size 640x480 with 1 Axes>"
      ]
     },
     "metadata": {},
     "output_type": "display_data"
    }
   ],
   "source": [
    "from scipy.special import binom as binomial\n",
    "plotEMF([(y,binomial(n,sin_inv[y])*(p**sin_inv[y])*((1-p)**(n-sin_inv[y]))) for y in Y_space])"
   ]
  },
  {
   "cell_type": "code",
   "execution_count": 44,
   "id": "4f068457",
   "metadata": {},
   "outputs": [
    {
     "data": {
      "image/png": "[encoded data removed]",
      "text/plain": [
       "<Figure size 640x480 with 1 Axes>"
      ]
     },
     "metadata": {},
     "output_type": "display_data"
    }
   ],
   "source": [
    "plotEDF(emfToEdf([(y,binomial(n,sin_inv[y])*(p**sin_inv[y])*((1-p)**(n-sin_inv[y]))) for y in Y_space]))"
   ]
  }
 ],
 "metadata": {
  "kernelspec": {
   "display_name": "venv",
   "language": "python",
   "name": "python3"
  },
  "language_info": {
   "codemirror_mode": {
    "name": "ipython",
    "version": 3
   },
   "file_extension": ".py",
   "mimetype": "text/x-python",
   "name": "python",
   "nbconvert_exporter": "python",
   "pygments_lexer": "ipython3",
   "version": "3.12.8"
  },
  "lx_course_instance": "2024",
  "lx_course_name": "Introduction to Data Science",
  "lx_course_number": "1MS041"
 },
 "nbformat": 4,
 "nbformat_minor": 5
}

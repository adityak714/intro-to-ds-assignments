{
 "cells": [
  {
   "cell_type": "markdown",
   "id": "1d7b1d05",
   "metadata": {
    "deletable": false
   },
   "source": [
    "\n",
    "# Assignment 2 for Course 1MS041\n",
    "Make sure you pass the `# ... Test` cells and\n",
    " submit your solution notebook in the corresponding assignment on the course website. You can submit multiple times before the deadline and your highest score will be used."
   ]
  },
  {
   "cell_type": "markdown",
   "id": "a6bc07b9",
   "metadata": {
    "deletable": false,
    "lx_assignment_number": "2",
    "lx_assignment_type": "ASSIGNMENT",
    "lx_assignment_type2print": "Assignment",
    "lx_problem_cell_type": "PROBLEM",
    "lx_problem_number": "1",
    "lx_problem_points": "8"
   },
   "source": [
    "---\n",
    "## Assignment 2, PROBLEM \n",
    "Maximum Points = 8"
   ]
  },
  {
   "cell_type": "markdown",
   "id": "db58f10b",
   "metadata": {
    "deletable": false,
    "lx_assignment_number": "2",
    "lx_assignment_type": "ASSIGNMENT",
    "lx_assignment_type2print": "Assignment",
    "lx_problem_cell_type": "PROBLEM",
    "lx_problem_number": "1",
    "lx_problem_points": "8"
   },
   "source": [
    "\n",
    "A courier company operates a fleet of delivery trucks that make deliveries to different parts of the city. The trucks are equipped with GPS tracking devices that record the location of each truck at regular intervals. The locations are divided into three regions: downtown, the suburbs, and the countryside. The following table shows the probabilities of a truck transitioning between these regions at each time step:\n",
    "\n",
    "| Current region | Probability of transitioning to downtown | Probability of transitioning to the suburbs | Probability of transitioning to the countryside |\n",
    "|----------------|--------------------------------------------|-----------------------------------------------|------------------------------------------------|\n",
    "| Downtown       | 0.3                                      | 0.4                                           | 0.3                                            |\n",
    "| Suburbs        | 0.2                                      | 0.5                                           | 0.3                                            |\n",
    "| Countryside    | 0.4                                      | 0.3                                           | 0.3                                            |\n",
    "\n",
    "1. If a truck is currently in the suburbs, what is the probability that it will be in the downtown region after two time steps? [1.5p]\n",
    "2. If a truck is currently in the suburbs, what is the probability that it will be in the downtown region **the first time** after two time steps? [1.5p]\n",
    "3. Is this Markov chain irreducible? [1.5p]\n",
    "4. What is the stationary distribution? [1.5p]\n",
    "5. Advanced question: What is the expected number of steps until the first time one enters the downtown region having started in the suburbs region. Hint: to get within 1 decimal point, it is enough to compute the probabilities for hitting times below 30. [2p]\n",
    "\n"
   ]
  },
  {
   "cell_type": "code",
   "execution_count": 1,
   "id": "2c601f0f",
   "metadata": {
    "deletable": false,
    "execution": {
     "iopub.execute_input": "2024-11-09T02:13:40.355753Z",
     "iopub.status.busy": "2024-11-09T02:13:40.354768Z",
     "iopub.status.idle": "2024-11-09T02:13:40.375993Z",
     "shell.execute_reply": "2024-11-09T02:13:40.374146Z"
    },
    "lx_assignment_number": "2",
    "lx_assignment_type": "ASSIGNMENT",
    "lx_assignment_type2print": "Assignment",
    "lx_problem_cell_type": "PROBLEM",
    "lx_problem_number": "1",
    "lx_problem_points": "8"
   },
   "outputs": [],
   "source": [
    "# Part 1\n",
    "\n",
    "# Fill in the answer to part 1 below as a decimal number\n",
    "problem1_p1 = 0.28"
   ]
  },
  {
   "cell_type": "code",
   "execution_count": 2,
   "id": "52a172dc",
   "metadata": {
    "deletable": false,
    "execution": {
     "iopub.execute_input": "2024-11-09T02:13:40.384484Z",
     "iopub.status.busy": "2024-11-09T02:13:40.383855Z",
     "iopub.status.idle": "2024-11-09T02:13:40.390973Z",
     "shell.execute_reply": "2024-11-09T02:13:40.389283Z"
    },
    "lx_assignment_number": "2",
    "lx_assignment_type": "ASSIGNMENT",
    "lx_assignment_type2print": "Assignment",
    "lx_problem_cell_type": "PROBLEM",
    "lx_problem_number": "1",
    "lx_problem_points": "8"
   },
   "outputs": [],
   "source": [
    "# Part 2\n",
    "\n",
    "# Fill in the answer to part 2 below as a decimal number\n",
    "problem1_p2 = 0.22"
   ]
  },
  {
   "cell_type": "code",
   "execution_count": 3,
   "id": "a3b3872d",
   "metadata": {
    "deletable": false,
    "execution": {
     "iopub.execute_input": "2024-11-09T02:13:40.399071Z",
     "iopub.status.busy": "2024-11-09T02:13:40.398447Z",
     "iopub.status.idle": "2024-11-09T02:13:40.404840Z",
     "shell.execute_reply": "2024-11-09T02:13:40.403570Z"
    },
    "lx_assignment_number": "2",
    "lx_assignment_type": "ASSIGNMENT",
    "lx_assignment_type2print": "Assignment",
    "lx_problem_cell_type": "PROBLEM",
    "lx_problem_number": "1",
    "lx_problem_points": "8"
   },
   "outputs": [],
   "source": [
    "# Part 3\n",
    "\n",
    "# Fill in the answer to part 3 below as a boolean\n",
    "problem1_irreducible = True"
   ]
  },
  {
   "cell_type": "code",
   "execution_count": 4,
   "id": "1b9d0a00",
   "metadata": {
    "deletable": false,
    "execution": {
     "iopub.execute_input": "2024-11-09T02:13:40.409869Z",
     "iopub.status.busy": "2024-11-09T02:13:40.409485Z",
     "iopub.status.idle": "2024-11-09T02:13:40.558521Z",
     "shell.execute_reply": "2024-11-09T02:13:40.557787Z"
    },
    "lx_assignment_number": "2",
    "lx_assignment_type": "ASSIGNMENT",
    "lx_assignment_type2print": "Assignment",
    "lx_problem_cell_type": "PROBLEM",
    "lx_problem_number": "1",
    "lx_problem_points": "8"
   },
   "outputs": [],
   "source": [
    "import numpy as np \n",
    "\n",
    "# Part 4\n",
    "\n",
    "# Fill in the answer to part 4 below\n",
    "# the answer should be a numpy array of length 3\n",
    "# make sure that the entries sums to 1!\n",
    "problem1_stationary = np.array([0.3, 0.411111, 0.288888])"
   ]
  },
  {
   "cell_type": "code",
   "execution_count": 5,
   "id": "481625e3",
   "metadata": {
    "deletable": false,
    "execution": {
     "iopub.execute_input": "2024-11-09T02:13:40.562125Z",
     "iopub.status.busy": "2024-11-09T02:13:40.561722Z",
     "iopub.status.idle": "2024-11-09T02:13:40.565956Z",
     "shell.execute_reply": "2024-11-09T02:13:40.565089Z"
    },
    "lx_assignment_number": "2",
    "lx_assignment_type": "ASSIGNMENT",
    "lx_assignment_type2print": "Assignment",
    "lx_problem_cell_type": "PROBLEM",
    "lx_problem_number": "1",
    "lx_problem_points": "8"
   },
   "outputs": [],
   "source": [
    "# Part 5\n",
    "\n",
    "# Fill in the answer to part 5 below\n",
    "# That is, the expected number of steps as a decimal number\n",
    "problem1_ET = 3.8445"
   ]
  },
  {
   "cell_type": "code",
   "execution_count": 6,
   "id": "6fd161ab",
   "metadata": {
    "deletable": false,
    "execution": {
     "iopub.execute_input": "2024-11-09T02:13:40.569739Z",
     "iopub.status.busy": "2024-11-09T02:13:40.569409Z",
     "iopub.status.idle": "2024-11-09T02:13:40.583016Z",
     "shell.execute_reply": "2024-11-09T02:13:40.582261Z"
    },
    "lx_assignment_number": "2",
    "lx_assignment_type": "ASSIGNMENT",
    "lx_assignment_type2print": "Assignment",
    "lx_problem_cell_type": "TEST",
    "lx_problem_number": "1",
    "lx_problem_points": "8",
    "lx_test_only": "True"
   },
   "outputs": [
    {
     "name": "stdout",
     "output_type": "stream",
     "text": [
      "Beginning tests for problem 1\n",
      "\n",
      "---------------------------------\n",
      "Beginning test for part1\n",
      "---------------------------------\n",
      "\n",
      "-----Beginning test------\n",
      "Your probability is correct!\n",
      "-----Ending test---------\n",
      "\n",
      "---------------------------------\n",
      "Beginning test for part2\n",
      "---------------------------------\n",
      "\n",
      "-----Beginning test------\n",
      "Your probability is correct!\n",
      "-----Ending test---------\n",
      "\n",
      "---------------------------------\n",
      "Beginning test for part3\n",
      "---------------------------------\n",
      "\n",
      "-----Beginning test------\n",
      "Your answer is correct\n",
      "-----Ending test---------\n",
      "\n",
      "---------------------------------\n",
      "Beginning test for part4\n",
      "---------------------------------\n",
      "\n",
      "-----Beginning test------\n",
      "\n",
      "Your stationary distribution is not within distance 0.01 from the true stationary distribution\n",
      "You got 1.5 points deduction \n",
      "-----Ending test---------\n",
      "\n",
      "---------------------------------\n",
      "Beginning test for part5\n",
      "---------------------------------\n",
      "\n",
      "-----Beginning test------\n",
      "You are within 0.05 from the true answer, good!\n",
      "-----Ending test---------\n",
      "\n",
      "\n",
      "All tests complete, you got = 6 points\n",
      "The number of points you have scored for this problem is 6 out of 8\n",
      "The number of points you have accumulated thus far is   6 out of 8\n"
     ]
    }
   ],
   "source": [
    "# ASSIGNMENT 2, TEST 1, POINTS 8"
   ]
  },
  {
   "cell_type": "markdown",
   "id": "a12ddeea",
   "metadata": {
    "deletable": false,
    "lx_assignment_number": "2",
    "lx_assignment_type": "ASSIGNMENT",
    "lx_assignment_type2print": "Assignment",
    "lx_problem_cell_type": "PROBLEM",
    "lx_problem_number": "2",
    "lx_problem_points": "4"
   },
   "source": [
    "---\n",
    "## Assignment 2, PROBLEM 2\n",
    "Maximum Points = 4"
   ]
  },
  {
   "cell_type": "markdown",
   "id": "d9a825d1",
   "metadata": {
    "deletable": false,
    "lx_assignment_number": "2",
    "lx_assignment_type": "ASSIGNMENT",
    "lx_assignment_type2print": "Assignment",
    "lx_problem_cell_type": "PROBLEM",
    "lx_problem_number": "2",
    "lx_problem_points": "4"
   },
   "source": [
    "\n",
    "Use the **Multi-dimensional Constrained Optimisation** example (in `07-Optimization.ipynb`) to numerically find the MLe for the mean and variance parameter based on `normallySimulatedDataSamples`, an array obtained by a specific simulation of $30$ IID samples from the $Normal(10,2)$ random variable.\n",
    "\n",
    "Recall that $Normal(\\mu, \\sigma^2)$ RV has the probability density function given by:\n",
    "\n",
    "$$\n",
    "f(x ;\\mu, \\sigma) = \\displaystyle\\frac{1}{\\sigma\\sqrt{2\\pi}}\\exp\\left(\\frac{-1}{2\\sigma^2}(x-\\mu)^2\\right)\n",
    "$$\n",
    "\n",
    "The two parameters, $\\mu \\in \\mathbb{R} := (-\\infty,\\infty)$ and $\\sigma \\in (0,\\infty)$, are sometimes referred to as the location and scale parameters.\n",
    "\n",
    "You know that the log likelihood function for $n$ IID samples from a Normal RV with parameters $\\mu$ and $\\sigma$ simply follows from $\\sum_{i=1}^n \\log(f(x_i; \\mu,\\sigma))$, based on the IID assumption. \n",
    "\n",
    "NOTE: When setting bounding boxes for $\\mu$ and $\\sigma$ try to start with some guesses like $[-20,20]$ and $[0.1,5.0]$ and make it larger if the solution is at the boundary. Making the left bounding-point for $\\sigma$ too close to $0.0$ will cause division by zero Warnings. Other numerical instabilities can happen in such iterative numerical solutions to the MLe. You need to be patient and learn by trial-and-error. You will see the mathematical theory in more details in a future course in scientific computing/optimisation. So don't worry too much now except learning to use it for our problems.  "
   ]
  },
  {
   "cell_type": "code",
   "execution_count": 7,
   "id": "699b52ca",
   "metadata": {
    "deletable": false,
    "execution": {
     "iopub.execute_input": "2024-11-09T02:13:40.588733Z",
     "iopub.status.busy": "2024-11-09T02:13:40.588348Z",
     "iopub.status.idle": "2024-11-09T02:13:40.764342Z",
     "shell.execute_reply": "2024-11-09T02:13:40.763496Z"
    },
    "lx_assignment_number": "2",
    "lx_assignment_type": "ASSIGNMENT",
    "lx_assignment_type2print": "Assignment",
    "lx_problem_cell_type": "PROBLEM",
    "lx_problem_number": "2",
    "lx_problem_points": "4"
   },
   "outputs": [
    {
     "name": "stderr",
     "output_type": "stream",
     "text": [
      "/tmp/ipykernel_16/2095960519.py:15: RuntimeWarning: divide by zero encountered in log\n",
      "  log_likelihood = np.log(f(parameters)) # add more or less lines as you need\n",
      "/opt/conda/lib/python3.9/site-packages/scipy/optimize/_numdiff.py:576: RuntimeWarning: invalid value encountered in subtract\n",
      "  df = fun(x) - f0\n"
     ]
    },
    {
     "data": {
      "text/plain": [
       "      fun: -0.5620846166473238\n",
       " hess_inv: <2x2 LbfgsInvHessProduct with dtype=float64>\n",
       "      jac: array([ 7.05970305, -2.04364038])\n",
       "  message: 'CONVERGENCE: REL_REDUCTION_OF_F_<=_FACTR*EPSMCH'\n",
       "     nfev: 27\n",
       "      nit: 5\n",
       "     njev: 9\n",
       "   status: 0\n",
       "  success: True\n",
       "        x: array([0.17059703, 0.1       ])"
      ]
     },
     "execution_count": 7,
     "metadata": {},
     "output_type": "execute_result"
    }
   ],
   "source": [
    "import math\n",
    "import numpy as np\n",
    "from scipy import optimize\n",
    "# do NOT change the next three lines\n",
    "np.random.seed(123456) # set seed\n",
    "# simulate 30 IID samples drawn from Normal(10,2)RV\n",
    "normallySimulatedDataSamples = np.random.normal(10,2,30) \n",
    "\n",
    "# define the negative log likelihoo function you want to minimise by editing XXX\n",
    "def negLogLklOfIIDNormalSamples(parameters):\n",
    "    '''return the -log(likelihood) of normallySimulatedDataSamples with mean and var parameters'''\n",
    "    mu_param=parameters[0]\n",
    "    sigma_param=parameters[1]\n",
    "    f = lambda x: (1/(sigma_param*(np.sqrt(2)*(math.pi))))*(np.exp((-1/(2*(sigma_param**2)))*(np.sum(x-mu_param)**2)))\n",
    "    log_likelihood = np.log(f(parameters)) # add more or less lines as you need\n",
    "    return -log_likelihood \n",
    "\n",
    "# you should only change XXX below and not anything else\n",
    "parameter_bounding_box=((-20, 20), (0.1, 5.0)) # specify the constraints for each parameter - some guess work...\n",
    "initial_arguments = np.array([2, 2]) # point in 2D to initialise the minimize algorithm\n",
    "result_problem2_opt = optimize.minimize(negLogLklOfIIDNormalSamples, initial_arguments, bounds=parameter_bounding_box) \n",
    "# call the minimize method above finally! you need to play a bit to get initial conditions and bounding box ok\n",
    "result_problem2_opt\n"
   ]
  },
  {
   "cell_type": "code",
   "execution_count": 8,
   "id": "23be4e49",
   "metadata": {
    "deletable": false,
    "execution": {
     "iopub.execute_input": "2024-11-09T02:13:40.768355Z",
     "iopub.status.busy": "2024-11-09T02:13:40.767924Z",
     "iopub.status.idle": "2024-11-09T02:13:40.781205Z",
     "shell.execute_reply": "2024-11-09T02:13:40.780283Z"
    },
    "lx_assignment_number": "2",
    "lx_assignment_type": "ASSIGNMENT",
    "lx_assignment_type2print": "Assignment",
    "lx_problem_cell_type": "TEST",
    "lx_problem_number": "2",
    "lx_problem_points": "4",
    "lx_test_only": "True"
   },
   "outputs": [
    {
     "name": "stdout",
     "output_type": "stream",
     "text": [
      "Beginning tests for problem 2\n",
      "\n",
      "---------------------------------\n",
      "Beginning test for part1\n",
      "---------------------------------\n",
      "\n",
      "-----Beginning test------\n",
      "\n",
      "Your negative log likelihood is not correct on the first hidden test sample\n",
      "You got 1.0 points deduction \n",
      "-----Ending test---------\n",
      "\n",
      "-----Beginning test------\n",
      "\n",
      "Your negative log likelihood is not correct on the second hidden test sample\n",
      "You got 1.0 points deduction \n",
      "-----Ending test---------\n",
      "\n",
      "---------------------------------\n",
      "Beginning test for part2\n",
      "---------------------------------\n",
      "\n",
      "-----Beginning test------\n",
      "Your optimization converged\n",
      "-----Ending test---------\n",
      "\n",
      "-----Beginning test------\n",
      "\n",
      "Your MLE for the mean is not correct\n",
      "You got 1.0 points deduction \n",
      "-----Ending test---------\n",
      "\n",
      "-----Beginning test------\n",
      "\n",
      "Your MLE for the variance is not correct\n",
      "You got 1.0 points deduction \n",
      "-----Ending test---------\n",
      "\n",
      "\n",
      "All tests complete, you got = 0 points\n",
      "The number of points you have scored for this problem is 0 out of 4\n",
      "The number of points you have accumulated thus far is   6 out of 12\n"
     ]
    }
   ],
   "source": [
    "# ASSIGNMENT 2, TEST 2, POINTS 4"
   ]
  },
  {
   "cell_type": "markdown",
   "id": "d7bf0b9f",
   "metadata": {
    "deletable": false,
    "lx_assignment_number": "2",
    "lx_assignment_type": "ASSIGNMENT",
    "lx_assignment_type2print": "Assignment",
    "lx_problem_cell_type": "PROBLEM",
    "lx_problem_number": "3",
    "lx_problem_points": "4"
   },
   "source": [
    "---\n",
    "## Assignment 2, PROBLEM 3\n",
    "Maximum Points = 4"
   ]
  },
  {
   "cell_type": "markdown",
   "id": "0b9c787c",
   "metadata": {
    "deletable": false,
    "lx_assignment_number": "2",
    "lx_assignment_type": "ASSIGNMENT",
    "lx_assignment_type2print": "Assignment",
    "lx_problem_cell_type": "PROBLEM",
    "lx_problem_number": "3",
    "lx_problem_points": "4"
   },
   "source": [
    "\n",
    "\n",
    "Derive the maximum likelihood estimate for $n$ IID samples from a random variable with the following probability density function:\n",
    "$$\n",
    "f(x; \\lambda) = \\frac{1}{24} \\lambda^5 x^4 \\exp(-\\lambda x), \\qquad \\text{ where, } \\lambda>0, x > 0\n",
    "$$\n",
    "\n",
    "You can solve the MLe by hand (using pencil paper or using key-strokes). Present your solution as the return value of a function called `def MLeForAssignment2Problem3(x)`, where `x` is a list of $n$ input data points."
   ]
  },
  {
   "cell_type": "code",
   "execution_count": 9,
   "id": "41720f28",
   "metadata": {
    "deletable": false,
    "execution": {
     "iopub.execute_input": "2024-11-09T02:13:40.785152Z",
     "iopub.status.busy": "2024-11-09T02:13:40.784755Z",
     "iopub.status.idle": "2024-11-09T02:13:40.789585Z",
     "shell.execute_reply": "2024-11-09T02:13:40.788711Z"
    },
    "lx_assignment_number": "2",
    "lx_assignment_type": "ASSIGNMENT",
    "lx_assignment_type2print": "Assignment",
    "lx_problem_cell_type": "PROBLEM",
    "lx_problem_number": "3",
    "lx_problem_points": "4"
   },
   "outputs": [],
   "source": [
    "\n",
    "# do not change the name of the function, just replace XXX with the appropriate expressions for the MLe\n",
    "def MLeForAssignment2Problem3(x):\n",
    "    '''write comment of what this function does'''\n",
    "    n = len(x)\n",
    "    ## This will calculate the MLe by dividing the number of samples, \n",
    "    ## by the sum of the samples. \n",
    "    return (5*n)/sum(x)"
   ]
  },
  {
   "cell_type": "code",
   "execution_count": 10,
   "id": "fc6426d4",
   "metadata": {
    "deletable": false,
    "execution": {
     "iopub.execute_input": "2024-11-09T02:13:40.793961Z",
     "iopub.status.busy": "2024-11-09T02:13:40.793636Z",
     "iopub.status.idle": "2024-11-09T02:13:40.805876Z",
     "shell.execute_reply": "2024-11-09T02:13:40.804943Z"
    },
    "lx_assignment_number": "2",
    "lx_assignment_type": "ASSIGNMENT",
    "lx_assignment_type2print": "Assignment",
    "lx_problem_cell_type": "TEST",
    "lx_problem_number": "3",
    "lx_problem_points": "4",
    "lx_test_only": "True"
   },
   "outputs": [
    {
     "name": "stdout",
     "output_type": "stream",
     "text": [
      "Beginning tests for problem 2\n",
      "\n",
      "---------------------------------\n",
      "Beginning test for part1\n",
      "---------------------------------\n",
      "\n",
      "-----Beginning test------\n",
      "Your MLE is correct on a hidden test sample\n",
      "-----Ending test---------\n",
      "\n",
      "---------------------------------\n",
      "Beginning test for part2\n",
      "---------------------------------\n",
      "\n",
      "-----Beginning test------\n",
      "Your MLE is correct on a hidden test sample\n",
      "-----Ending test---------\n",
      "\n",
      "\n",
      "All tests complete, you got = 4 points\n",
      "The number of points you have scored for this problem is 4 out of 4\n",
      "The number of points you have accumulated thus far is   10 out of 16\n"
     ]
    }
   ],
   "source": [
    "# ASSIGNMENT 2, TEST 2, POINTS 4"
   ]
  },
  {
   "cell_type": "markdown",
   "id": "b138a3b3",
   "metadata": {
    "deletable": false,
    "lx_assignment_number": "2",
    "lx_assignment_type": "ASSIGNMENT",
    "lx_assignment_type2print": "Assignment",
    "lx_problem_cell_type": "PROBLEM",
    "lx_problem_number": "4",
    "lx_problem_points": "8"
   },
   "source": [
    "---\n",
    "## Assignment 2, PROBLEM 4\n",
    "Maximum Points = 8"
   ]
  },
  {
   "cell_type": "markdown",
   "id": "2e67892b",
   "metadata": {
    "deletable": false,
    "lx_assignment_number": "2",
    "lx_assignment_type": "ASSIGNMENT",
    "lx_assignment_type2print": "Assignment",
    "lx_problem_cell_type": "PROBLEM",
    "lx_problem_number": "4",
    "lx_problem_points": "8"
   },
   "source": [
    "\n",
    "## Random variable generation and transformation\n",
    "\n",
    "The purpose of this problem is to show that you can implement your own sampler, this will be built in the following three steps:\n",
    "\n",
    "1. [2p] Implement a Linear Congruential Generator where you tested out a good combination (a large $M$ with $a,b$ satisfying the Hull-Dobell (Thm 6.8)) of parameters. Follow the instructions in the code block.\n",
    "2. [2p] Using a generator construct random numbers from the uniform $[0,1]$ distribution.\n",
    "3. [4p] Using a uniform $[0,1]$ random generator, generate samples from \n",
    "\n",
    "$$p_0(x) = \\frac{\\pi}{2}|\\sin(2\\pi x)|, \\quad x \\in [0,1] \\enspace .$$\n",
    "\n",
    "Using the **Accept-Reject** sampler (**Algorithm 1** in TFDS notes) with sampling density given by the uniform $[0,1]$ distribution."
   ]
  },
  {
   "cell_type": "code",
   "execution_count": 11,
   "id": "530446bc",
   "metadata": {
    "deletable": false,
    "execution": {
     "iopub.execute_input": "2024-11-09T02:13:40.810996Z",
     "iopub.status.busy": "2024-11-09T02:13:40.810677Z",
     "iopub.status.idle": "2024-11-09T02:13:40.816601Z",
     "shell.execute_reply": "2024-11-09T02:13:40.815845Z"
    },
    "lx_assignment_number": "2",
    "lx_assignment_type": "ASSIGNMENT",
    "lx_assignment_type2print": "Assignment",
    "lx_problem_cell_type": "PROBLEM",
    "lx_problem_number": "4",
    "lx_problem_points": "8"
   },
   "outputs": [],
   "source": [
    "\n",
    "def problem4_LCG(size=None, seed = 0):\n",
    "    \"\"\"\n",
    "    A linear congruential generator that generates pseudo random numbers according to size.\n",
    "    \n",
    "    Parameters\n",
    "    -------------\n",
    "    size : an integer denoting how many samples should be produced\n",
    "    seed : the starting point of the LCG, i.e. u0 in the notes.\n",
    "    \n",
    "    Returns\n",
    "    -------------\n",
    "    out : a list of the pseudo random numbers\n",
    "    \"\"\"\n",
    "    \n",
    "    M = 3**31 - 7\n",
    "    a = 29595892\n",
    "    b = 23\n",
    "    \n",
    "    curr = seed\n",
    "    arr = []\n",
    "\n",
    "    for i in range(size):\n",
    "        curr = ((a*curr) + b) % M\n",
    "        arr.append(curr/M)\n",
    "\n",
    "    return arr"
   ]
  },
  {
   "cell_type": "code",
   "execution_count": 12,
   "id": "8d215c5a",
   "metadata": {
    "deletable": false,
    "execution": {
     "iopub.execute_input": "2024-11-09T02:13:40.820776Z",
     "iopub.status.busy": "2024-11-09T02:13:40.820389Z",
     "iopub.status.idle": "2024-11-09T02:13:40.825414Z",
     "shell.execute_reply": "2024-11-09T02:13:40.824723Z"
    },
    "lx_assignment_number": "2",
    "lx_assignment_type": "ASSIGNMENT",
    "lx_assignment_type2print": "Assignment",
    "lx_problem_cell_type": "PROBLEM",
    "lx_problem_number": "4",
    "lx_problem_points": "8"
   },
   "outputs": [],
   "source": [
    "def problem4_uniform(generator=None, period = 1, size=None, seed=0):\n",
    "    \"\"\"\n",
    "    Takes a generator and produces samples from the uniform [0,1] distribution according\n",
    "    to size.\n",
    "    \n",
    "    Parameters\n",
    "    -------------\n",
    "    generator : a function of type generator(size,seed) and produces the same result as problem1_LCG, i.e. pseudo random numbers in the range {0,1,...,period-1}\n",
    "    period : the period of the generator\n",
    "    seed : the seed to be used in the generator provided\n",
    "    size : an integer denoting how many samples should be produced\n",
    "    \n",
    "    Returns\n",
    "    --------------\n",
    "    out : a list of the uniform pseudo random numbers\n",
    "    \"\"\"\n",
    "    \n",
    "    random_nums = generator(size=size, seed=seed)\n",
    "    uniform_numbers = [num / period for num in random_nums]\n",
    "    \n",
    "    return uniform_numbers"
   ]
  },
  {
   "cell_type": "code",
   "execution_count": 13,
   "id": "15832284",
   "metadata": {
    "deletable": false,
    "execution": {
     "iopub.execute_input": "2024-11-09T02:13:40.829635Z",
     "iopub.status.busy": "2024-11-09T02:13:40.829248Z",
     "iopub.status.idle": "2024-11-09T02:13:40.835431Z",
     "shell.execute_reply": "2024-11-09T02:13:40.834742Z"
    },
    "lx_assignment_number": "2",
    "lx_assignment_type": "ASSIGNMENT",
    "lx_assignment_type2print": "Assignment",
    "lx_problem_cell_type": "PROBLEM",
    "lx_problem_number": "4",
    "lx_problem_points": "8"
   },
   "outputs": [],
   "source": [
    "def problem4_accept_reject(uniformGenerator=None, n_iterations=None, seed=0):\n",
    "    \"\"\"\n",
    "    Takes a generator that produces uniform pseudo random [0,1] numbers \n",
    "    and produces samples from (pi/2)*abs(sin(x*2*pi)) using an Accept-Reject\n",
    "    sampler with the uniform distribution as the proposal distribution.\n",
    "    Runs n_iterations\n",
    "    \n",
    "    Parameters\n",
    "    -------------\n",
    "    generator : a function of the type generator(size,seed) that produces uniform pseudo random\n",
    "    numbers from [0,1]\n",
    "    seed : the seed to be used in the generator provided\n",
    "    n_iterations : an integer denoting how many attempts should be made in the accept-reject sampler\n",
    "    \n",
    "    Returns\n",
    "    --------------\n",
    "    out : a list of the pseudo random numbers with the specified distribution\n",
    "    \"\"\"\n",
    "    \n",
    "    sampled_nums = []\n",
    "    c = math.pi / 2\n",
    "\n",
    "    uniform = uniformGenerator(size=n_iterations, seed=seed)  \n",
    "\n",
    "    for num in sampled_nums:\n",
    "        x = num\n",
    "        x_proposal = uniformGenerator(size=1, seed=seed+21)[0]\n",
    "\n",
    "        if x_proposal <= abs(math.sin(2 * math.pi * x)):\n",
    "            sampled_nums.append(x_proposal)\n",
    "\n",
    "    return sampled_nums"
   ]
  },
  {
   "cell_type": "markdown",
   "id": "e4f5e9fc",
   "metadata": {
    "deletable": false,
    "lx_assignment_number": "2",
    "lx_assignment_type": "ASSIGNMENT",
    "lx_assignment_type2print": "Assignment",
    "lx_problem_cell_type": "Test",
    "lx_problem_number": "4",
    "lx_problem_points": "8"
   },
   "source": [
    "---\n",
    "#### Local Test for Assignment 2, PROBLEM 4\n",
    "Evaluate cell below to make sure your answer is valid.                             You **should not** modify anything in the cell below when evaluating it to do a local test of                             your solution.\n",
    "You may need to include and evaluate code snippets from lecture notebooks in cells above to make the local test work correctly sometimes (see error messages for clues). This is meant to help you become efficient at recalling materials covered in lectures that relate to this problem. Such local tests will generally not be available in the exam."
   ]
  },
  {
   "cell_type": "code",
   "execution_count": 14,
   "id": "26cd1592",
   "metadata": {
    "deletable": false,
    "execution": {
     "iopub.execute_input": "2024-11-09T02:13:40.839780Z",
     "iopub.status.busy": "2024-11-09T02:13:40.839392Z",
     "iopub.status.idle": "2024-11-09T02:13:40.846166Z",
     "shell.execute_reply": "2024-11-09T02:13:40.845234Z"
    },
    "lx_assignment_number": "2",
    "lx_assignment_type": "ASSIGNMENT",
    "lx_assignment_type2print": "Assignment",
    "lx_problem_cell_type": "Test",
    "lx_problem_number": "4",
    "lx_problem_points": "8"
   },
   "outputs": [
    {
     "name": "stdout",
     "output_type": "stream",
     "text": [
      "LCG output: [4.7915152535394244e-08, 0.4180916796010914, 0.19557250406790735, 0.7085633463909485, 0.2749451025308642, 0.5604323836429145, 0.2995982630740196, 0.8373262712959724, 0.8940382984713846, 0.9254228651892245]\n",
      "Uniform sampler [7.757360576586658e-23, 6.768814750909195e-16, 3.1662769554997006e-16, 1.1471488826519365e-15, 4.451302325549309e-16, 9.073280264531382e-16, 4.850431714826462e-16, 1.3556133003841719e-15, 1.4474288577913781e-15, 1.4982397991507704e-15]\n",
      "Accept-Reject sampler []\n"
     ]
    }
   ],
   "source": [
    "# If you managed to solve all three parts you can test the following code to see if it runs\n",
    "# you have to change the period to match your LCG though, this is marked as XXX.\n",
    "# It is a very good idea to check these things using the histogram function in sagemath\n",
    "# try with a larger number of samples, up to 10000 should run\n",
    "\n",
    "print(\"LCG output: %s\" % problem4_LCG(size=10, seed = 1))\n",
    "\n",
    "period = 3**31 - 7\n",
    "\n",
    "print(\"Uniform sampler %s\" % problem4_uniform(generator=problem4_LCG, period = period, size=10, seed=1))\n",
    "\n",
    "uniform_sampler = lambda size,seed: problem4_uniform(generator=problem4_LCG, period = period, size=size, seed=seed)\n",
    "\n",
    "print(\"Accept-Reject sampler %s\" % problem4_accept_reject(uniformGenerator = uniform_sampler,n_iterations=20,seed=1))"
   ]
  },
  {
   "cell_type": "code",
   "execution_count": 15,
   "id": "5318f370",
   "metadata": {
    "deletable": false,
    "execution": {
     "iopub.execute_input": "2024-11-09T02:13:40.851350Z",
     "iopub.status.busy": "2024-11-09T02:13:40.850764Z",
     "iopub.status.idle": "2024-11-09T02:13:40.857433Z",
     "shell.execute_reply": "2024-11-09T02:13:40.856465Z"
    },
    "lx_assignment_number": "2",
    "lx_assignment_type": "ASSIGNMENT",
    "lx_assignment_type2print": "Assignment",
    "lx_problem_cell_type": "Test",
    "lx_problem_number": "4",
    "lx_problem_points": "8"
   },
   "outputs": [
    {
     "name": "stdout",
     "output_type": "stream",
     "text": [
      "Accept-Reject sampler []\n"
     ]
    }
   ],
   "source": [
    "# If however you did not manage to implement either part 1 or part 2 but still want to check part 3, you can run the code below\n",
    "\n",
    "def testUniformGenerator(size,seed):\n",
    "    import random\n",
    "    random.seed(seed)\n",
    "    \n",
    "    return [random.uniform(0,1) for s in range(size)]\n",
    "\n",
    "print(\"Accept-Reject sampler %s\" % problem4_accept_reject(uniformGenerator=testUniformGenerator, n_iterations=20, seed=1))"
   ]
  },
  {
   "cell_type": "code",
   "execution_count": 16,
   "id": "1c533268",
   "metadata": {
    "deletable": false,
    "execution": {
     "iopub.execute_input": "2024-11-09T02:13:40.862417Z",
     "iopub.status.busy": "2024-11-09T02:13:40.862094Z",
     "iopub.status.idle": "2024-11-09T02:13:42.151674Z",
     "shell.execute_reply": "2024-11-09T02:13:42.150840Z"
    },
    "lx_assignment_number": "2",
    "lx_assignment_type": "ASSIGNMENT",
    "lx_assignment_type2print": "Assignment",
    "lx_problem_cell_type": "TEST",
    "lx_problem_number": "4",
    "lx_problem_points": "8",
    "lx_test_only": "True",
    "scrolled": true
   },
   "outputs": [
    {
     "data": {
      "image/png": "[encoded data removed]",
      "text/plain": [
       "<Figure size 432x288 with 1 Axes>"
      ]
     },
     "metadata": {
      "needs_background": "light"
     },
     "output_type": "display_data"
    },
    {
     "data": {
      "image/png": "[encoded data removed]",
      "text/plain": [
       "<Figure size 432x288 with 1 Axes>"
      ]
     },
     "metadata": {
      "needs_background": "light"
     },
     "output_type": "display_data"
    },
    {
     "name": "stdout",
     "output_type": "stream",
     "text": [
      "Beginning tests for problem 3\n",
      "\n",
      "---------------------------------\n",
      "Beginning test for part1\n",
      "---------------------------------\n",
      "\n",
      "-----Beginning test------\n",
      "LCG outputs correct size\n",
      "-----Ending test---------\n",
      "\n",
      "-----Beginning test------\n",
      "Your period is at least longer than 1000\n",
      "-----Ending test---------\n",
      "\n",
      "---------------------------------\n",
      "Beginning test for part2\n",
      "---------------------------------\n",
      "\n",
      "-----Beginning test------\n",
      "problem4_uniform outputs correct size\n",
      "-----Ending test---------\n",
      "\n",
      "-----Beginning test------\n",
      "The uniform sampler seems to produce the correct distribution, within tolerance!\n",
      "-----Ending test---------\n",
      "\n",
      "-----Beginning test------\n",
      "The output of problem4_uniform is greater than 0\n",
      "-----Ending test---------\n",
      "\n",
      "-----Beginning test------\n",
      "The output of problem4_uniform is less than 1\n",
      "-----Ending test---------\n",
      "\n",
      "---------------------------------\n",
      "Beginning test for part3\n",
      "---------------------------------\n",
      "\n",
      "-----Beginning test------\n",
      "The accept-reject sampler runs with your LCG sampler and produces unique results\n",
      "-----Ending test---------\n",
      "\n",
      "-----Beginning test------\n",
      "min() arg is an empty sequence\n",
      "The accept-reject sampler with your LCG sampler does not produce numbers between 0 and 1\n",
      "You got 0.5 points deduction \n",
      "-----Ending test---------\n",
      "\n",
      "-----Beginning test------\n",
      "min() arg is an empty sequence\n",
      "The accept-reject sampler with a plug in sampler does not produce numbers between 0 and 1\n",
      "You got 0.5 points deduction \n",
      "-----Ending test---------\n",
      "\n",
      "-----Beginning test------\n",
      "The accept-reject sampler produces unique results with the plug-in sampler\n",
      "-----Ending test---------\n",
      "\n",
      "-----Beginning test------\n",
      "The accept-reject sampler seems to produce the correct distribution, within tolerance!\n",
      "-----Ending test---------\n",
      "\n",
      "\n",
      "All tests complete, you got = 7 points\n",
      "The number of points you have scored for this problem is 7 out of 8\n",
      " \n",
      " \n",
      " \n",
      "The number of points you have scored in total for this entire set of Problems is 17 out of 24\n"
     ]
    }
   ],
   "source": [
    "# ASSIGNMENT 2, TEST 4, POINTS 8"
   ]
  },
  {
   "cell_type": "markdown",
   "id": "d801be84",
   "metadata": {},
   "source": [
    "The number of points you have scored in total for this entire set of Problems is 17 out of 24."
   ]
  }
 ],
 "metadata": {
  "language_info": {
   "codemirror_mode": {
    "name": "ipython",
    "version": 3
   },
   "file_extension": ".py",
   "mimetype": "text/x-python",
   "name": "python",
   "nbconvert_exporter": "python",
   "pygments_lexer": "ipython3",
   "version": "3.9.12"
  },
  "lx_assignment_number": 2,
  "lx_course_instance": "2024",
  "lx_course_name": "Introduction to Data Science",
  "lx_course_number": "1MS041"
 },
 "nbformat": 4,
 "nbformat_minor": 5
}
